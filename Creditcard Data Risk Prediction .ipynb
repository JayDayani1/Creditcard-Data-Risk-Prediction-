{
 "cells": [
  {
   "cell_type": "markdown",
   "metadata": {
    "id": "8404sgXNWbj6"
   },
   "source": [
    "# **Question 1**"
   ]
  },
  {
   "cell_type": "markdown",
   "metadata": {
    "id": "zfHrORGeWlJw"
   },
   "source": [
    "Perform EDA and do any data preprocessing required (especially handle imbalance in\n",
    "the dataset)."
   ]
  },
  {
   "cell_type": "code",
   "execution_count": 1,
   "metadata": {
    "id": "CXzB5tz2QyaB"
   },
   "outputs": [],
   "source": [
    "import pandas as pd\n",
    "import numpy as np\n",
    "import torch\n",
    "import torch.nn as nn\n",
    "import torch.optim as optim\n",
    "from sklearn.model_selection import train_test_split\n",
    "from sklearn.preprocessing import StandardScaler\n",
    "from imblearn.under_sampling import RandomUnderSampler\n",
    "import matplotlib.pyplot as plt"
   ]
  },
  {
   "cell_type": "code",
   "execution_count": 5,
   "metadata": {
    "id": "7Qoj1D8WQ0xJ"
   },
   "outputs": [],
   "source": [
    "# Load the dataset\n",
    "credit_card_data = pd.read_excel('CreditCardDataset.xlsx')"
   ]
  },
  {
   "cell_type": "code",
   "execution_count": 6,
   "metadata": {
    "colab": {
     "base_uri": "https://localhost:8080/",
     "height": 299
    },
    "id": "geYSkQh6RMS4",
    "outputId": "4ac892a4-fd9b-4c54-96a3-82b49e150cef"
   },
   "outputs": [
    {
     "data": {
      "text/html": [
       "\n",
       "  <div id=\"df-72da92f1-5c96-4f6a-ba3e-12f7f04f929c\">\n",
       "    <div class=\"colab-df-container\">\n",
       "      <div>\n",
       "<style scoped>\n",
       "    .dataframe tbody tr th:only-of-type {\n",
       "        vertical-align: middle;\n",
       "    }\n",
       "\n",
       "    .dataframe tbody tr th {\n",
       "        vertical-align: top;\n",
       "    }\n",
       "\n",
       "    .dataframe thead th {\n",
       "        text-align: right;\n",
       "    }\n",
       "</style>\n",
       "<table border=\"1\" class=\"dataframe\">\n",
       "  <thead>\n",
       "    <tr style=\"text-align: right;\">\n",
       "      <th></th>\n",
       "      <th>Time</th>\n",
       "      <th>V1</th>\n",
       "      <th>V2</th>\n",
       "      <th>V3</th>\n",
       "      <th>V4</th>\n",
       "      <th>V5</th>\n",
       "      <th>V6</th>\n",
       "      <th>V7</th>\n",
       "      <th>V8</th>\n",
       "      <th>V9</th>\n",
       "      <th>...</th>\n",
       "      <th>V21</th>\n",
       "      <th>V22</th>\n",
       "      <th>V23</th>\n",
       "      <th>V24</th>\n",
       "      <th>V25</th>\n",
       "      <th>V26</th>\n",
       "      <th>V27</th>\n",
       "      <th>V28</th>\n",
       "      <th>Amount</th>\n",
       "      <th>Class</th>\n",
       "    </tr>\n",
       "  </thead>\n",
       "  <tbody>\n",
       "    <tr>\n",
       "      <th>0</th>\n",
       "      <td>2</td>\n",
       "      <td>-1.158233</td>\n",
       "      <td>0.877737</td>\n",
       "      <td>1.548718</td>\n",
       "      <td>0.403034</td>\n",
       "      <td>-0.407193</td>\n",
       "      <td>0.095921</td>\n",
       "      <td>0.592941</td>\n",
       "      <td>-0.270533</td>\n",
       "      <td>0.817739</td>\n",
       "      <td>...</td>\n",
       "      <td>-0.009431</td>\n",
       "      <td>0.798278</td>\n",
       "      <td>-0.137458</td>\n",
       "      <td>0.141267</td>\n",
       "      <td>-0.206010</td>\n",
       "      <td>0.502292</td>\n",
       "      <td>0.219422</td>\n",
       "      <td>0.215153</td>\n",
       "      <td>69.99</td>\n",
       "      <td>0</td>\n",
       "    </tr>\n",
       "    <tr>\n",
       "      <th>1</th>\n",
       "      <td>2</td>\n",
       "      <td>-0.425966</td>\n",
       "      <td>0.960523</td>\n",
       "      <td>1.141109</td>\n",
       "      <td>-0.168252</td>\n",
       "      <td>0.420987</td>\n",
       "      <td>-0.029728</td>\n",
       "      <td>0.476201</td>\n",
       "      <td>0.260314</td>\n",
       "      <td>-0.568671</td>\n",
       "      <td>...</td>\n",
       "      <td>-0.208254</td>\n",
       "      <td>-0.559825</td>\n",
       "      <td>-0.026398</td>\n",
       "      <td>-0.371427</td>\n",
       "      <td>-0.232794</td>\n",
       "      <td>0.105915</td>\n",
       "      <td>0.253844</td>\n",
       "      <td>0.081080</td>\n",
       "      <td>3.67</td>\n",
       "      <td>0</td>\n",
       "    </tr>\n",
       "    <tr>\n",
       "      <th>2</th>\n",
       "      <td>7</td>\n",
       "      <td>-0.644269</td>\n",
       "      <td>1.417964</td>\n",
       "      <td>1.074380</td>\n",
       "      <td>-0.492199</td>\n",
       "      <td>0.948934</td>\n",
       "      <td>0.428118</td>\n",
       "      <td>1.120631</td>\n",
       "      <td>-3.807864</td>\n",
       "      <td>0.615375</td>\n",
       "      <td>...</td>\n",
       "      <td>1.943465</td>\n",
       "      <td>-1.015455</td>\n",
       "      <td>0.057504</td>\n",
       "      <td>-0.649709</td>\n",
       "      <td>-0.415267</td>\n",
       "      <td>-0.051634</td>\n",
       "      <td>-1.206921</td>\n",
       "      <td>-1.085339</td>\n",
       "      <td>40.80</td>\n",
       "      <td>0</td>\n",
       "    </tr>\n",
       "    <tr>\n",
       "      <th>3</th>\n",
       "      <td>11</td>\n",
       "      <td>1.069374</td>\n",
       "      <td>0.287722</td>\n",
       "      <td>0.828613</td>\n",
       "      <td>2.712520</td>\n",
       "      <td>-0.178398</td>\n",
       "      <td>0.337544</td>\n",
       "      <td>-0.096717</td>\n",
       "      <td>0.115982</td>\n",
       "      <td>-0.221083</td>\n",
       "      <td>...</td>\n",
       "      <td>-0.036876</td>\n",
       "      <td>0.074412</td>\n",
       "      <td>-0.071407</td>\n",
       "      <td>0.104744</td>\n",
       "      <td>0.548265</td>\n",
       "      <td>0.104094</td>\n",
       "      <td>0.021491</td>\n",
       "      <td>0.021293</td>\n",
       "      <td>27.50</td>\n",
       "      <td>0</td>\n",
       "    </tr>\n",
       "    <tr>\n",
       "      <th>4</th>\n",
       "      <td>12</td>\n",
       "      <td>-0.752417</td>\n",
       "      <td>0.345485</td>\n",
       "      <td>2.057323</td>\n",
       "      <td>-1.468643</td>\n",
       "      <td>-1.158394</td>\n",
       "      <td>-0.077850</td>\n",
       "      <td>-0.608581</td>\n",
       "      <td>0.003603</td>\n",
       "      <td>-0.436167</td>\n",
       "      <td>...</td>\n",
       "      <td>0.499625</td>\n",
       "      <td>1.353650</td>\n",
       "      <td>-0.256573</td>\n",
       "      <td>-0.065084</td>\n",
       "      <td>-0.039124</td>\n",
       "      <td>-0.087086</td>\n",
       "      <td>-0.180998</td>\n",
       "      <td>0.129394</td>\n",
       "      <td>15.99</td>\n",
       "      <td>0</td>\n",
       "    </tr>\n",
       "  </tbody>\n",
       "</table>\n",
       "<p>5 rows × 31 columns</p>\n",
       "</div>\n",
       "      <button class=\"colab-df-convert\" onclick=\"convertToInteractive('df-72da92f1-5c96-4f6a-ba3e-12f7f04f929c')\"\n",
       "              title=\"Convert this dataframe to an interactive table.\"\n",
       "              style=\"display:none;\">\n",
       "        \n",
       "  <svg xmlns=\"http://www.w3.org/2000/svg\" height=\"24px\"viewBox=\"0 0 24 24\"\n",
       "       width=\"24px\">\n",
       "    <path d=\"M0 0h24v24H0V0z\" fill=\"none\"/>\n",
       "    <path d=\"M18.56 5.44l.94 2.06.94-2.06 2.06-.94-2.06-.94-.94-2.06-.94 2.06-2.06.94zm-11 1L8.5 8.5l.94-2.06 2.06-.94-2.06-.94L8.5 2.5l-.94 2.06-2.06.94zm10 10l.94 2.06.94-2.06 2.06-.94-2.06-.94-.94-2.06-.94 2.06-2.06.94z\"/><path d=\"M17.41 7.96l-1.37-1.37c-.4-.4-.92-.59-1.43-.59-.52 0-1.04.2-1.43.59L10.3 9.45l-7.72 7.72c-.78.78-.78 2.05 0 2.83L4 21.41c.39.39.9.59 1.41.59.51 0 1.02-.2 1.41-.59l7.78-7.78 2.81-2.81c.8-.78.8-2.07 0-2.86zM5.41 20L4 18.59l7.72-7.72 1.47 1.35L5.41 20z\"/>\n",
       "  </svg>\n",
       "      </button>\n",
       "      \n",
       "  <style>\n",
       "    .colab-df-container {\n",
       "      display:flex;\n",
       "      flex-wrap:wrap;\n",
       "      gap: 12px;\n",
       "    }\n",
       "\n",
       "    .colab-df-convert {\n",
       "      background-color: #E8F0FE;\n",
       "      border: none;\n",
       "      border-radius: 50%;\n",
       "      cursor: pointer;\n",
       "      display: none;\n",
       "      fill: #1967D2;\n",
       "      height: 32px;\n",
       "      padding: 0 0 0 0;\n",
       "      width: 32px;\n",
       "    }\n",
       "\n",
       "    .colab-df-convert:hover {\n",
       "      background-color: #E2EBFA;\n",
       "      box-shadow: 0px 1px 2px rgba(60, 64, 67, 0.3), 0px 1px 3px 1px rgba(60, 64, 67, 0.15);\n",
       "      fill: #174EA6;\n",
       "    }\n",
       "\n",
       "    [theme=dark] .colab-df-convert {\n",
       "      background-color: #3B4455;\n",
       "      fill: #D2E3FC;\n",
       "    }\n",
       "\n",
       "    [theme=dark] .colab-df-convert:hover {\n",
       "      background-color: #434B5C;\n",
       "      box-shadow: 0px 1px 3px 1px rgba(0, 0, 0, 0.15);\n",
       "      filter: drop-shadow(0px 1px 2px rgba(0, 0, 0, 0.3));\n",
       "      fill: #FFFFFF;\n",
       "    }\n",
       "  </style>\n",
       "\n",
       "      <script>\n",
       "        const buttonEl =\n",
       "          document.querySelector('#df-72da92f1-5c96-4f6a-ba3e-12f7f04f929c button.colab-df-convert');\n",
       "        buttonEl.style.display =\n",
       "          google.colab.kernel.accessAllowed ? 'block' : 'none';\n",
       "\n",
       "        async function convertToInteractive(key) {\n",
       "          const element = document.querySelector('#df-72da92f1-5c96-4f6a-ba3e-12f7f04f929c');\n",
       "          const dataTable =\n",
       "            await google.colab.kernel.invokeFunction('convertToInteractive',\n",
       "                                                     [key], {});\n",
       "          if (!dataTable) return;\n",
       "\n",
       "          const docLinkHtml = 'Like what you see? Visit the ' +\n",
       "            '<a target=\"_blank\" href=https://colab.research.google.com/notebooks/data_table.ipynb>data table notebook</a>'\n",
       "            + ' to learn more about interactive tables.';\n",
       "          element.innerHTML = '';\n",
       "          dataTable['output_type'] = 'display_data';\n",
       "          await google.colab.output.renderOutput(dataTable, element);\n",
       "          const docLink = document.createElement('div');\n",
       "          docLink.innerHTML = docLinkHtml;\n",
       "          element.appendChild(docLink);\n",
       "        }\n",
       "      </script>\n",
       "    </div>\n",
       "  </div>\n",
       "  "
      ],
      "text/plain": [
       "   Time        V1        V2        V3        V4        V5        V6        V7  \\\n",
       "0     2 -1.158233  0.877737  1.548718  0.403034 -0.407193  0.095921  0.592941   \n",
       "1     2 -0.425966  0.960523  1.141109 -0.168252  0.420987 -0.029728  0.476201   \n",
       "2     7 -0.644269  1.417964  1.074380 -0.492199  0.948934  0.428118  1.120631   \n",
       "3    11  1.069374  0.287722  0.828613  2.712520 -0.178398  0.337544 -0.096717   \n",
       "4    12 -0.752417  0.345485  2.057323 -1.468643 -1.158394 -0.077850 -0.608581   \n",
       "\n",
       "         V8        V9  ...       V21       V22       V23       V24       V25  \\\n",
       "0 -0.270533  0.817739  ... -0.009431  0.798278 -0.137458  0.141267 -0.206010   \n",
       "1  0.260314 -0.568671  ... -0.208254 -0.559825 -0.026398 -0.371427 -0.232794   \n",
       "2 -3.807864  0.615375  ...  1.943465 -1.015455  0.057504 -0.649709 -0.415267   \n",
       "3  0.115982 -0.221083  ... -0.036876  0.074412 -0.071407  0.104744  0.548265   \n",
       "4  0.003603 -0.436167  ...  0.499625  1.353650 -0.256573 -0.065084 -0.039124   \n",
       "\n",
       "        V26       V27       V28  Amount  Class  \n",
       "0  0.502292  0.219422  0.215153   69.99      0  \n",
       "1  0.105915  0.253844  0.081080    3.67      0  \n",
       "2 -0.051634 -1.206921 -1.085339   40.80      0  \n",
       "3  0.104094  0.021491  0.021293   27.50      0  \n",
       "4 -0.087086 -0.180998  0.129394   15.99      0  \n",
       "\n",
       "[5 rows x 31 columns]"
      ]
     },
     "execution_count": 6,
     "metadata": {},
     "output_type": "execute_result"
    }
   ],
   "source": [
    "credit_card_data.head()"
   ]
  },
  {
   "cell_type": "code",
   "execution_count": 7,
   "metadata": {
    "colab": {
     "base_uri": "https://localhost:8080/"
    },
    "id": "ASAQD9W7ReTL",
    "outputId": "cd035b77-00a0-40b0-c4f4-268d1b30de76"
   },
   "outputs": [
    {
     "data": {
      "text/plain": [
       "(57355, 31)"
      ]
     },
     "execution_count": 7,
     "metadata": {},
     "output_type": "execute_result"
    }
   ],
   "source": [
    "credit_card_data.shape"
   ]
  },
  {
   "cell_type": "code",
   "execution_count": 8,
   "metadata": {
    "colab": {
     "base_uri": "https://localhost:8080/"
    },
    "id": "glJSFJ-RRi8b",
    "outputId": "b81dcd15-f1e3-4729-a2b2-834378ba9e5d"
   },
   "outputs": [
    {
     "data": {
      "text/plain": [
       "Time      0\n",
       "V1        0\n",
       "V2        0\n",
       "V3        0\n",
       "V4        0\n",
       "V5        0\n",
       "V6        0\n",
       "V7        0\n",
       "V8        0\n",
       "V9        0\n",
       "V10       0\n",
       "V11       0\n",
       "V12       0\n",
       "V13       0\n",
       "V14       0\n",
       "V15       0\n",
       "V16       0\n",
       "V17       0\n",
       "V18       0\n",
       "V19       0\n",
       "V20       0\n",
       "V21       0\n",
       "V22       0\n",
       "V23       0\n",
       "V24       0\n",
       "V25       0\n",
       "V26       0\n",
       "V27       0\n",
       "V28       0\n",
       "Amount    0\n",
       "Class     0\n",
       "dtype: int64"
      ]
     },
     "execution_count": 8,
     "metadata": {},
     "output_type": "execute_result"
    }
   ],
   "source": [
    "credit_card_data.isnull().sum()"
   ]
  },
  {
   "cell_type": "code",
   "execution_count": 9,
   "metadata": {
    "colab": {
     "base_uri": "https://localhost:8080/"
    },
    "id": "sMd3dxQvRlVO",
    "outputId": "6dcff5d6-1966-41c2-f363-1ef261b6e43d"
   },
   "outputs": [
    {
     "name": "stdout",
     "output_type": "stream",
     "text": [
      "<class 'pandas.core.frame.DataFrame'>\n",
      "RangeIndex: 57355 entries, 0 to 57354\n",
      "Data columns (total 31 columns):\n",
      " #   Column  Non-Null Count  Dtype  \n",
      "---  ------  --------------  -----  \n",
      " 0   Time    57355 non-null  int64  \n",
      " 1   V1      57355 non-null  float64\n",
      " 2   V2      57355 non-null  float64\n",
      " 3   V3      57355 non-null  float64\n",
      " 4   V4      57355 non-null  float64\n",
      " 5   V5      57355 non-null  float64\n",
      " 6   V6      57355 non-null  float64\n",
      " 7   V7      57355 non-null  float64\n",
      " 8   V8      57355 non-null  float64\n",
      " 9   V9      57355 non-null  float64\n",
      " 10  V10     57355 non-null  float64\n",
      " 11  V11     57355 non-null  float64\n",
      " 12  V12     57355 non-null  float64\n",
      " 13  V13     57355 non-null  float64\n",
      " 14  V14     57355 non-null  float64\n",
      " 15  V15     57355 non-null  float64\n",
      " 16  V16     57355 non-null  float64\n",
      " 17  V17     57355 non-null  float64\n",
      " 18  V18     57355 non-null  float64\n",
      " 19  V19     57355 non-null  float64\n",
      " 20  V20     57355 non-null  float64\n",
      " 21  V21     57355 non-null  float64\n",
      " 22  V22     57355 non-null  float64\n",
      " 23  V23     57355 non-null  float64\n",
      " 24  V24     57355 non-null  float64\n",
      " 25  V25     57355 non-null  float64\n",
      " 26  V26     57355 non-null  float64\n",
      " 27  V27     57355 non-null  float64\n",
      " 28  V28     57355 non-null  float64\n",
      " 29  Amount  57355 non-null  float64\n",
      " 30  Class   57355 non-null  int64  \n",
      "dtypes: float64(29), int64(2)\n",
      "memory usage: 13.6 MB\n"
     ]
    }
   ],
   "source": [
    "credit_card_data.info()"
   ]
  },
  {
   "cell_type": "code",
   "execution_count": 10,
   "metadata": {
    "colab": {
     "base_uri": "https://localhost:8080/",
     "height": 393
    },
    "id": "cRkb5H11Ro5T",
    "outputId": "72750d97-ba78-4430-cc64-9903aeae2715"
   },
   "outputs": [
    {
     "data": {
      "text/html": [
       "\n",
       "  <div id=\"df-11a574be-92fd-4c14-b56b-54969fdfc2e7\">\n",
       "    <div class=\"colab-df-container\">\n",
       "      <div>\n",
       "<style scoped>\n",
       "    .dataframe tbody tr th:only-of-type {\n",
       "        vertical-align: middle;\n",
       "    }\n",
       "\n",
       "    .dataframe tbody tr th {\n",
       "        vertical-align: top;\n",
       "    }\n",
       "\n",
       "    .dataframe thead th {\n",
       "        text-align: right;\n",
       "    }\n",
       "</style>\n",
       "<table border=\"1\" class=\"dataframe\">\n",
       "  <thead>\n",
       "    <tr style=\"text-align: right;\">\n",
       "      <th></th>\n",
       "      <th>Time</th>\n",
       "      <th>V1</th>\n",
       "      <th>V2</th>\n",
       "      <th>V3</th>\n",
       "      <th>V4</th>\n",
       "      <th>V5</th>\n",
       "      <th>V6</th>\n",
       "      <th>V7</th>\n",
       "      <th>V8</th>\n",
       "      <th>V9</th>\n",
       "      <th>...</th>\n",
       "      <th>V21</th>\n",
       "      <th>V22</th>\n",
       "      <th>V23</th>\n",
       "      <th>V24</th>\n",
       "      <th>V25</th>\n",
       "      <th>V26</th>\n",
       "      <th>V27</th>\n",
       "      <th>V28</th>\n",
       "      <th>Amount</th>\n",
       "      <th>Class</th>\n",
       "    </tr>\n",
       "  </thead>\n",
       "  <tbody>\n",
       "    <tr>\n",
       "      <th>count</th>\n",
       "      <td>57355.000000</td>\n",
       "      <td>57355.000000</td>\n",
       "      <td>57355.000000</td>\n",
       "      <td>57355.000000</td>\n",
       "      <td>57355.000000</td>\n",
       "      <td>57355.000000</td>\n",
       "      <td>57355.000000</td>\n",
       "      <td>57355.000000</td>\n",
       "      <td>57355.000000</td>\n",
       "      <td>57355.000000</td>\n",
       "      <td>...</td>\n",
       "      <td>57355.000000</td>\n",
       "      <td>57355.000000</td>\n",
       "      <td>57355.000000</td>\n",
       "      <td>57355.000000</td>\n",
       "      <td>57355.000000</td>\n",
       "      <td>57355.000000</td>\n",
       "      <td>57355.000000</td>\n",
       "      <td>57355.000000</td>\n",
       "      <td>57355.000000</td>\n",
       "      <td>57355.000000</td>\n",
       "    </tr>\n",
       "    <tr>\n",
       "      <th>mean</th>\n",
       "      <td>94577.357074</td>\n",
       "      <td>-0.029092</td>\n",
       "      <td>0.030156</td>\n",
       "      <td>-0.055749</td>\n",
       "      <td>0.035521</td>\n",
       "      <td>-0.022664</td>\n",
       "      <td>-0.006869</td>\n",
       "      <td>-0.032448</td>\n",
       "      <td>0.006142</td>\n",
       "      <td>-0.017667</td>\n",
       "      <td>...</td>\n",
       "      <td>0.005569</td>\n",
       "      <td>-0.000265</td>\n",
       "      <td>0.003273</td>\n",
       "      <td>0.001159</td>\n",
       "      <td>0.005003</td>\n",
       "      <td>0.003133</td>\n",
       "      <td>0.000226</td>\n",
       "      <td>-0.000625</td>\n",
       "      <td>88.825575</td>\n",
       "      <td>0.008578</td>\n",
       "    </tr>\n",
       "    <tr>\n",
       "      <th>std</th>\n",
       "      <td>47505.713234</td>\n",
       "      <td>2.061391</td>\n",
       "      <td>1.711228</td>\n",
       "      <td>1.733364</td>\n",
       "      <td>1.484621</td>\n",
       "      <td>1.508300</td>\n",
       "      <td>1.361819</td>\n",
       "      <td>1.504317</td>\n",
       "      <td>1.334058</td>\n",
       "      <td>1.131679</td>\n",
       "      <td>...</td>\n",
       "      <td>0.813950</td>\n",
       "      <td>0.734597</td>\n",
       "      <td>0.625238</td>\n",
       "      <td>0.604653</td>\n",
       "      <td>0.519852</td>\n",
       "      <td>0.482496</td>\n",
       "      <td>0.433713</td>\n",
       "      <td>0.323980</td>\n",
       "      <td>279.496913</td>\n",
       "      <td>0.092221</td>\n",
       "    </tr>\n",
       "    <tr>\n",
       "      <th>min</th>\n",
       "      <td>2.000000</td>\n",
       "      <td>-36.802320</td>\n",
       "      <td>-63.344698</td>\n",
       "      <td>-48.325589</td>\n",
       "      <td>-5.519697</td>\n",
       "      <td>-113.743307</td>\n",
       "      <td>-19.996349</td>\n",
       "      <td>-43.557242</td>\n",
       "      <td>-73.216718</td>\n",
       "      <td>-13.434066</td>\n",
       "      <td>...</td>\n",
       "      <td>-34.830382</td>\n",
       "      <td>-10.933144</td>\n",
       "      <td>-32.828995</td>\n",
       "      <td>-2.822384</td>\n",
       "      <td>-8.696627</td>\n",
       "      <td>-2.534330</td>\n",
       "      <td>-8.878665</td>\n",
       "      <td>-15.430084</td>\n",
       "      <td>0.000000</td>\n",
       "      <td>0.000000</td>\n",
       "    </tr>\n",
       "    <tr>\n",
       "      <th>25%</th>\n",
       "      <td>53943.500000</td>\n",
       "      <td>-0.927615</td>\n",
       "      <td>-0.588747</td>\n",
       "      <td>-0.922554</td>\n",
       "      <td>-0.839400</td>\n",
       "      <td>-0.692157</td>\n",
       "      <td>-0.774796</td>\n",
       "      <td>-0.558211</td>\n",
       "      <td>-0.207145</td>\n",
       "      <td>-0.651869</td>\n",
       "      <td>...</td>\n",
       "      <td>-0.226932</td>\n",
       "      <td>-0.541278</td>\n",
       "      <td>-0.161812</td>\n",
       "      <td>-0.354648</td>\n",
       "      <td>-0.312164</td>\n",
       "      <td>-0.322536</td>\n",
       "      <td>-0.070642</td>\n",
       "      <td>-0.052695</td>\n",
       "      <td>5.475000</td>\n",
       "      <td>0.000000</td>\n",
       "    </tr>\n",
       "    <tr>\n",
       "      <th>50%</th>\n",
       "      <td>84641.000000</td>\n",
       "      <td>0.015980</td>\n",
       "      <td>0.071801</td>\n",
       "      <td>0.168619</td>\n",
       "      <td>-0.005637</td>\n",
       "      <td>-0.055913</td>\n",
       "      <td>-0.276163</td>\n",
       "      <td>0.035797</td>\n",
       "      <td>0.024380</td>\n",
       "      <td>-0.053373</td>\n",
       "      <td>...</td>\n",
       "      <td>-0.028379</td>\n",
       "      <td>0.004681</td>\n",
       "      <td>-0.011439</td>\n",
       "      <td>0.041286</td>\n",
       "      <td>0.021494</td>\n",
       "      <td>-0.049135</td>\n",
       "      <td>0.000859</td>\n",
       "      <td>0.011169</td>\n",
       "      <td>21.990000</td>\n",
       "      <td>0.000000</td>\n",
       "    </tr>\n",
       "    <tr>\n",
       "      <th>75%</th>\n",
       "      <td>139140.000000</td>\n",
       "      <td>1.314129</td>\n",
       "      <td>0.815413</td>\n",
       "      <td>1.019384</td>\n",
       "      <td>0.764271</td>\n",
       "      <td>0.607021</td>\n",
       "      <td>0.387408</td>\n",
       "      <td>0.562758</td>\n",
       "      <td>0.333358</td>\n",
       "      <td>0.599522</td>\n",
       "      <td>...</td>\n",
       "      <td>0.190245</td>\n",
       "      <td>0.529286</td>\n",
       "      <td>0.147282</td>\n",
       "      <td>0.439244</td>\n",
       "      <td>0.352590</td>\n",
       "      <td>0.243882</td>\n",
       "      <td>0.091355</td>\n",
       "      <td>0.078500</td>\n",
       "      <td>76.900000</td>\n",
       "      <td>0.000000</td>\n",
       "    </tr>\n",
       "    <tr>\n",
       "      <th>max</th>\n",
       "      <td>172777.000000</td>\n",
       "      <td>2.454930</td>\n",
       "      <td>22.057729</td>\n",
       "      <td>3.940337</td>\n",
       "      <td>16.715537</td>\n",
       "      <td>28.762671</td>\n",
       "      <td>73.301626</td>\n",
       "      <td>120.589494</td>\n",
       "      <td>20.007208</td>\n",
       "      <td>10.348407</td>\n",
       "      <td>...</td>\n",
       "      <td>27.202839</td>\n",
       "      <td>10.503090</td>\n",
       "      <td>22.528412</td>\n",
       "      <td>4.584549</td>\n",
       "      <td>5.826159</td>\n",
       "      <td>3.517346</td>\n",
       "      <td>31.612198</td>\n",
       "      <td>15.866721</td>\n",
       "      <td>25691.160000</td>\n",
       "      <td>1.000000</td>\n",
       "    </tr>\n",
       "  </tbody>\n",
       "</table>\n",
       "<p>8 rows × 31 columns</p>\n",
       "</div>\n",
       "      <button class=\"colab-df-convert\" onclick=\"convertToInteractive('df-11a574be-92fd-4c14-b56b-54969fdfc2e7')\"\n",
       "              title=\"Convert this dataframe to an interactive table.\"\n",
       "              style=\"display:none;\">\n",
       "        \n",
       "  <svg xmlns=\"http://www.w3.org/2000/svg\" height=\"24px\"viewBox=\"0 0 24 24\"\n",
       "       width=\"24px\">\n",
       "    <path d=\"M0 0h24v24H0V0z\" fill=\"none\"/>\n",
       "    <path d=\"M18.56 5.44l.94 2.06.94-2.06 2.06-.94-2.06-.94-.94-2.06-.94 2.06-2.06.94zm-11 1L8.5 8.5l.94-2.06 2.06-.94-2.06-.94L8.5 2.5l-.94 2.06-2.06.94zm10 10l.94 2.06.94-2.06 2.06-.94-2.06-.94-.94-2.06-.94 2.06-2.06.94z\"/><path d=\"M17.41 7.96l-1.37-1.37c-.4-.4-.92-.59-1.43-.59-.52 0-1.04.2-1.43.59L10.3 9.45l-7.72 7.72c-.78.78-.78 2.05 0 2.83L4 21.41c.39.39.9.59 1.41.59.51 0 1.02-.2 1.41-.59l7.78-7.78 2.81-2.81c.8-.78.8-2.07 0-2.86zM5.41 20L4 18.59l7.72-7.72 1.47 1.35L5.41 20z\"/>\n",
       "  </svg>\n",
       "      </button>\n",
       "      \n",
       "  <style>\n",
       "    .colab-df-container {\n",
       "      display:flex;\n",
       "      flex-wrap:wrap;\n",
       "      gap: 12px;\n",
       "    }\n",
       "\n",
       "    .colab-df-convert {\n",
       "      background-color: #E8F0FE;\n",
       "      border: none;\n",
       "      border-radius: 50%;\n",
       "      cursor: pointer;\n",
       "      display: none;\n",
       "      fill: #1967D2;\n",
       "      height: 32px;\n",
       "      padding: 0 0 0 0;\n",
       "      width: 32px;\n",
       "    }\n",
       "\n",
       "    .colab-df-convert:hover {\n",
       "      background-color: #E2EBFA;\n",
       "      box-shadow: 0px 1px 2px rgba(60, 64, 67, 0.3), 0px 1px 3px 1px rgba(60, 64, 67, 0.15);\n",
       "      fill: #174EA6;\n",
       "    }\n",
       "\n",
       "    [theme=dark] .colab-df-convert {\n",
       "      background-color: #3B4455;\n",
       "      fill: #D2E3FC;\n",
       "    }\n",
       "\n",
       "    [theme=dark] .colab-df-convert:hover {\n",
       "      background-color: #434B5C;\n",
       "      box-shadow: 0px 1px 3px 1px rgba(0, 0, 0, 0.15);\n",
       "      filter: drop-shadow(0px 1px 2px rgba(0, 0, 0, 0.3));\n",
       "      fill: #FFFFFF;\n",
       "    }\n",
       "  </style>\n",
       "\n",
       "      <script>\n",
       "        const buttonEl =\n",
       "          document.querySelector('#df-11a574be-92fd-4c14-b56b-54969fdfc2e7 button.colab-df-convert');\n",
       "        buttonEl.style.display =\n",
       "          google.colab.kernel.accessAllowed ? 'block' : 'none';\n",
       "\n",
       "        async function convertToInteractive(key) {\n",
       "          const element = document.querySelector('#df-11a574be-92fd-4c14-b56b-54969fdfc2e7');\n",
       "          const dataTable =\n",
       "            await google.colab.kernel.invokeFunction('convertToInteractive',\n",
       "                                                     [key], {});\n",
       "          if (!dataTable) return;\n",
       "\n",
       "          const docLinkHtml = 'Like what you see? Visit the ' +\n",
       "            '<a target=\"_blank\" href=https://colab.research.google.com/notebooks/data_table.ipynb>data table notebook</a>'\n",
       "            + ' to learn more about interactive tables.';\n",
       "          element.innerHTML = '';\n",
       "          dataTable['output_type'] = 'display_data';\n",
       "          await google.colab.output.renderOutput(dataTable, element);\n",
       "          const docLink = document.createElement('div');\n",
       "          docLink.innerHTML = docLinkHtml;\n",
       "          element.appendChild(docLink);\n",
       "        }\n",
       "      </script>\n",
       "    </div>\n",
       "  </div>\n",
       "  "
      ],
      "text/plain": [
       "                Time            V1            V2            V3            V4  \\\n",
       "count   57355.000000  57355.000000  57355.000000  57355.000000  57355.000000   \n",
       "mean    94577.357074     -0.029092      0.030156     -0.055749      0.035521   \n",
       "std     47505.713234      2.061391      1.711228      1.733364      1.484621   \n",
       "min         2.000000    -36.802320    -63.344698    -48.325589     -5.519697   \n",
       "25%     53943.500000     -0.927615     -0.588747     -0.922554     -0.839400   \n",
       "50%     84641.000000      0.015980      0.071801      0.168619     -0.005637   \n",
       "75%    139140.000000      1.314129      0.815413      1.019384      0.764271   \n",
       "max    172777.000000      2.454930     22.057729      3.940337     16.715537   \n",
       "\n",
       "                 V5            V6            V7            V8            V9  \\\n",
       "count  57355.000000  57355.000000  57355.000000  57355.000000  57355.000000   \n",
       "mean      -0.022664     -0.006869     -0.032448      0.006142     -0.017667   \n",
       "std        1.508300      1.361819      1.504317      1.334058      1.131679   \n",
       "min     -113.743307    -19.996349    -43.557242    -73.216718    -13.434066   \n",
       "25%       -0.692157     -0.774796     -0.558211     -0.207145     -0.651869   \n",
       "50%       -0.055913     -0.276163      0.035797      0.024380     -0.053373   \n",
       "75%        0.607021      0.387408      0.562758      0.333358      0.599522   \n",
       "max       28.762671     73.301626    120.589494     20.007208     10.348407   \n",
       "\n",
       "       ...           V21           V22           V23           V24  \\\n",
       "count  ...  57355.000000  57355.000000  57355.000000  57355.000000   \n",
       "mean   ...      0.005569     -0.000265      0.003273      0.001159   \n",
       "std    ...      0.813950      0.734597      0.625238      0.604653   \n",
       "min    ...    -34.830382    -10.933144    -32.828995     -2.822384   \n",
       "25%    ...     -0.226932     -0.541278     -0.161812     -0.354648   \n",
       "50%    ...     -0.028379      0.004681     -0.011439      0.041286   \n",
       "75%    ...      0.190245      0.529286      0.147282      0.439244   \n",
       "max    ...     27.202839     10.503090     22.528412      4.584549   \n",
       "\n",
       "                V25           V26           V27           V28        Amount  \\\n",
       "count  57355.000000  57355.000000  57355.000000  57355.000000  57355.000000   \n",
       "mean       0.005003      0.003133      0.000226     -0.000625     88.825575   \n",
       "std        0.519852      0.482496      0.433713      0.323980    279.496913   \n",
       "min       -8.696627     -2.534330     -8.878665    -15.430084      0.000000   \n",
       "25%       -0.312164     -0.322536     -0.070642     -0.052695      5.475000   \n",
       "50%        0.021494     -0.049135      0.000859      0.011169     21.990000   \n",
       "75%        0.352590      0.243882      0.091355      0.078500     76.900000   \n",
       "max        5.826159      3.517346     31.612198     15.866721  25691.160000   \n",
       "\n",
       "              Class  \n",
       "count  57355.000000  \n",
       "mean       0.008578  \n",
       "std        0.092221  \n",
       "min        0.000000  \n",
       "25%        0.000000  \n",
       "50%        0.000000  \n",
       "75%        0.000000  \n",
       "max        1.000000  \n",
       "\n",
       "[8 rows x 31 columns]"
      ]
     },
     "execution_count": 10,
     "metadata": {},
     "output_type": "execute_result"
    }
   ],
   "source": [
    "credit_card_data.describe()"
   ]
  },
  {
   "cell_type": "code",
   "execution_count": 11,
   "metadata": {
    "colab": {
     "base_uri": "https://localhost:8080/"
    },
    "id": "MogeOZSLRsLn",
    "outputId": "177de83a-122c-4efe-e2c0-09146ebcf100"
   },
   "outputs": [
    {
     "name": "stdout",
     "output_type": "stream",
     "text": [
      "0    56863\n",
      "1      492\n",
      "Name: Class, dtype: int64\n"
     ]
    }
   ],
   "source": [
    "count = credit_card_data['Class'].value_counts()\n",
    "print(count)"
   ]
  },
  {
   "cell_type": "code",
   "execution_count": 12,
   "metadata": {
    "id": "ymHenEqDRxEU"
   },
   "outputs": [],
   "source": [
    "# Splitting the features and target variable\n",
    "X = credit_card_data.drop('Class', axis=1)  # Extracting the features, dropping the 'Class' column\n",
    "y = credit_card_data['Class']  # Extracting the target variable\n",
    "\n",
    "# Standardizing the features\n",
    "ss = StandardScaler()  # Creating a StandardScaler object\n",
    "X_scaled = ss.fit_transform(X)  # Standardizing the features using fit_transform()\n",
    "\n",
    "# Handling imbalance in the dataset\n",
    "rus = RandomUnderSampler(random_state=45)  # Creating a RandomUnderSampler object with a random state of 45\n",
    "X_resampled, y_resampled = rus.fit_resample(X_scaled, y)  # Undersampling the majority class using fit_resample()\n",
    "\n",
    "# Splitting the dataset into training and validation sets\n",
    "X_train, X_val, y_train, y_val = train_test_split(X_resampled, y_resampled, test_size=0.1, random_state=45)\n",
    "# Splitting the resampled dataset into 90% training set and 10% validation set using train_test_split()\n",
    "# The random state of 45 ensures reproducibility of the split\n"
   ]
  },
  {
   "cell_type": "code",
   "execution_count": 13,
   "metadata": {
    "id": "6-NXxMupSCt2"
   },
   "outputs": [],
   "source": [
    "# Convert data to PyTorch tensors\n",
    "X_train = torch.tensor(X_train, dtype=torch.float32)  # Convert X_train to a PyTorch tensor with float32 data type\n",
    "y_train = torch.tensor(y_train.values.reshape(-1, 1), dtype=torch.float32)  # Convert y_train to a PyTorch tensor with float32 data type and reshape it to (-1, 1)\n",
    "X_val = torch.tensor(X_val, dtype=torch.float32)  # Convert X_val to a PyTorch tensor with float32 data type\n",
    "y_val = torch.tensor(y_val.values.reshape(-1, 1), dtype=torch.float32)  # Convert y_val to a PyTorch tensor with float32 data type and reshape it to (-1, 1)\n"
   ]
  },
  {
   "cell_type": "code",
   "execution_count": null,
   "metadata": {
    "id": "K86RHwfSWnHT"
   },
   "outputs": [],
   "source": []
  },
  {
   "cell_type": "markdown",
   "metadata": {
    "id": "uCiAG-M9WnhD"
   },
   "source": [
    "# **Question 2**"
   ]
  },
  {
   "cell_type": "markdown",
   "metadata": {
    "id": "6ix29ChDWvCX"
   },
   "source": [
    "Implement a Neural Network using PyTorch Framework\n",
    "\n",
    "\n",
    "1.   Plot training loss and validation loss\n",
    "2.   Plot training accuracy and validation accuracy\n",
    "\n",
    "\n"
   ]
  },
  {
   "cell_type": "code",
   "execution_count": 17,
   "metadata": {
    "colab": {
     "base_uri": "https://localhost:8080/"
    },
    "id": "SmLV-c7nSMSw",
    "outputId": "a12c1556-825f-420a-a4f5-81570d1a5853"
   },
   "outputs": [
    {
     "name": "stdout",
     "output_type": "stream",
     "text": [
      "Epoch 10/200: Train Loss: 0.5362, Val Loss: 0.5236, Train Acc: 0.8915, Val Acc: 0.8485\n",
      "Epoch 20/200: Train Loss: 0.4299, Val Loss: 0.4336, Train Acc: 0.9198, Val Acc: 0.8990\n",
      "Epoch 30/200: Train Loss: 0.3568, Val Loss: 0.3695, Train Acc: 0.9277, Val Acc: 0.9091\n",
      "Epoch 40/200: Train Loss: 0.2948, Val Loss: 0.3151, Train Acc: 0.9311, Val Acc: 0.9091\n",
      "Epoch 50/200: Train Loss: 0.2398, Val Loss: 0.2683, Train Acc: 0.9333, Val Acc: 0.9091\n",
      "Epoch 60/200: Train Loss: 0.1939, Val Loss: 0.2338, Train Acc: 0.9401, Val Acc: 0.9091\n",
      "Epoch 70/200: Train Loss: 0.1594, Val Loss: 0.2141, Train Acc: 0.9480, Val Acc: 0.9192\n",
      "Epoch 80/200: Train Loss: 0.1352, Val Loss: 0.2068, Train Acc: 0.9514, Val Acc: 0.9293\n",
      "Epoch 90/200: Train Loss: 0.1179, Val Loss: 0.2072, Train Acc: 0.9582, Val Acc: 0.9293\n",
      "Epoch 100/200: Train Loss: 0.1047, Val Loss: 0.2105, Train Acc: 0.9593, Val Acc: 0.9293\n",
      "Epoch 110/200: Train Loss: 0.0940, Val Loss: 0.2146, Train Acc: 0.9605, Val Acc: 0.9192\n",
      "Epoch 120/200: Train Loss: 0.0851, Val Loss: 0.2194, Train Acc: 0.9672, Val Acc: 0.9192\n",
      "Epoch 130/200: Train Loss: 0.0774, Val Loss: 0.2247, Train Acc: 0.9740, Val Acc: 0.9192\n",
      "Epoch 140/200: Train Loss: 0.0705, Val Loss: 0.2317, Train Acc: 0.9763, Val Acc: 0.9192\n",
      "Epoch 150/200: Train Loss: 0.0643, Val Loss: 0.2398, Train Acc: 0.9774, Val Acc: 0.9192\n",
      "Epoch 160/200: Train Loss: 0.0585, Val Loss: 0.2482, Train Acc: 0.9797, Val Acc: 0.9192\n",
      "Epoch 170/200: Train Loss: 0.0531, Val Loss: 0.2574, Train Acc: 0.9831, Val Acc: 0.9192\n",
      "Epoch 180/200: Train Loss: 0.0481, Val Loss: 0.2666, Train Acc: 0.9842, Val Acc: 0.9192\n",
      "Epoch 190/200: Train Loss: 0.0435, Val Loss: 0.2758, Train Acc: 0.9876, Val Acc: 0.9192\n",
      "Epoch 200/200: Train Loss: 0.0393, Val Loss: 0.2852, Train Acc: 0.9898, Val Acc: 0.9192\n"
     ]
    }
   ],
   "source": [
    "# Define the neural network architecture\n",
    "class NeuralNetwork(nn.Module):\n",
    "    def __init__(self, input_dim):\n",
    "        super(NeuralNetwork, self).__init__()\n",
    "\n",
    "        # Define the layers\n",
    "        self.fc1 = nn.Linear(input_dim, 64)  # First fully connected layer with input_dim neurons and 64 output neurons\n",
    "        self.relu = nn.ReLU()  # ReLU activation function\n",
    "        self.fc2 = nn.Linear(64, 32)  # Second fully connected layer with 64 input neurons and 32 output neurons\n",
    "        self.fc3 = nn.Linear(32, 1)  # Third fully connected layer with 32 input neurons and 1 output neuron\n",
    "        self.sigmoid = nn.Sigmoid()  # Sigmoid activation function\n",
    "\n",
    "    def forward(self, x):\n",
    "        x = self.fc1(x)  # Pass input through the first fully connected layer\n",
    "        x = self.relu(x)  # Apply ReLU activation\n",
    "        x = self.fc2(x)  # Pass through the second fully connected layer\n",
    "        x = self.relu(x)  # Apply ReLU activation\n",
    "        x = self.fc3(x)  # Pass through the third fully connected layer\n",
    "        x = self.sigmoid(x)  # Apply sigmoid activation\n",
    "        return x\n",
    "\n",
    "# Create an instance of the neural network\n",
    "input_dim = X_train.shape[1]  # Get the number of input features\n",
    "model = NeuralNetwork(input_dim)  # Create an instance of the NeuralNetwork class with the input dimension\n",
    "\n",
    "# Define the loss function and optimizer\n",
    "criterion = nn.BCELoss()  # Binary Cross Entropy loss function\n",
    "optimizer = optim.Adam(model.parameters(),lr=0.001)  # Adam optimizer\n",
    "\n",
    "# Training the model\n",
    "num_epochs = 200\n",
    "batch_size = 64\n",
    "train_losses = []  # List to store training losses\n",
    "val_losses = []  # List to store validation losses\n",
    "train_accuracies = []\n",
    "val_accuracies = []\n",
    "\n",
    "\n",
    "for epoch in range(num_epochs):\n",
    "    model.train()  # Set the model to training mode\n",
    "    optimizer.zero_grad()  # Zero the gradients\n",
    "\n",
    "    # Forward pass\n",
    "    outputs = model(X_train)  # Pass the training data through the model\n",
    "    train_loss = criterion(outputs, y_train)  # Calculate the training loss\n",
    "    train_loss.backward()  # Backpropagation\n",
    "    optimizer.step()  # Update the weights\n",
    "\n",
    "    # Evaluation\n",
    "    model.eval()  # Set the model to evaluation mode\n",
    "    with torch.no_grad():\n",
    "        val_outputs = model(X_val)  # Pass the validation data through the model\n",
    "        val_loss = criterion(val_outputs, y_val)  # Calculate the validation loss\n",
    "\n",
    "\n",
    "    train_pred = torch.round(outputs)\n",
    "    val_pred = torch.round(val_outputs)\n",
    "    train_acc = (train_pred == y_train).sum().item() / len(y_train)\n",
    "    val_acc = (val_pred == y_val).sum().item() / len(y_val)\n",
    "\n",
    "    # Record the training and validation loss\n",
    "    train_losses.append(train_loss.item())\n",
    "    val_losses.append(val_loss.item())\n",
    "    train_accuracies.append(train_acc)\n",
    "    val_accuracies.append(val_acc)\n",
    "\n",
    "     # Print progress\n",
    "    if (epoch+1) % 10 == 0:\n",
    "        print(f\"Epoch {epoch+1}/{num_epochs}: Train Loss: {train_loss.item():.4f}, Val Loss: {val_loss.item():.4f}, Train Acc: {train_acc:.4f}, Val Acc: {val_acc:.4f}\")"
   ]
  },
  {
   "cell_type": "code",
   "execution_count": 19,
   "metadata": {
    "colab": {
     "base_uri": "https://localhost:8080/",
     "height": 564
    },
    "id": "B3OdiG8kSprs",
    "outputId": "c46c55d3-c68e-41ba-c7f0-d848cbacbd79"
   },
   "outputs": [
    {
     "data": {
      "image/png": "[encoded data removed]",
      "text/plain": [
       "<Figure size 800x600 with 1 Axes>"
      ]
     },
     "metadata": {},
     "output_type": "display_data"
    }
   ],
   "source": [
    "# Plot training and validation loss\n",
    "import matplotlib.pyplot as mtb\n",
    "mtb.figure(figsize=(8, 6))\n",
    "mtb.plot(train_losses, label='Train Loss')\n",
    "mtb.plot(val_losses, label='Val Loss')\n",
    "mtb.xlabel('Epoch')\n",
    "mtb.ylabel('Loss')\n",
    "mtb.legend()\n",
    "mtb.title('Training and Validation Loss')\n",
    "mtb.show()"
   ]
  },
  {
   "cell_type": "code",
   "execution_count": 20,
   "metadata": {
    "colab": {
     "base_uri": "https://localhost:8080/",
     "height": 564
    },
    "id": "ojV5mHkrT0Wr",
    "outputId": "474c4576-fe54-4039-86f6-691da3dcfed1"
   },
   "outputs": [
    {
     "data": {
      "image/png": "[encoded data removed]",
      "text/plain": [
       "<Figure size 800x600 with 1 Axes>"
      ]
     },
     "metadata": {},
     "output_type": "display_data"
    }
   ],
   "source": [
    "# Plot training and validation accuracy\n",
    "mtb.figure(figsize=(8, 6))\n",
    "mtb.plot(train_accuracies, label='Train Accuracy')\n",
    "mtb.plot(val_accuracies, label='Val Accuracy')\n",
    "mtb.xlabel('Epoch')\n",
    "mtb.ylabel('Accuracy')\n",
    "mtb.legend()\n",
    "mtb.title('Training and Validation Accuracy')\n",
    "mtb.show()"
   ]
  },
  {
   "cell_type": "markdown",
   "metadata": {
    "id": "IfiRGQrAUXUQ"
   },
   "source": [
    "# **Question 3**"
   ]
  },
  {
   "cell_type": "markdown",
   "metadata": {
    "id": "FAXw43NxUSFA"
   },
   "source": [
    "**Provide observations/reasoning where necessary and a conclusion section at the end of\n",
    "the notebook.**"
   ]
  },
  {
   "cell_type": "markdown",
   "metadata": {
    "id": "uVTKrjloUdi_"
   },
   "source": [
    "## **Overall Observations:**"
   ]
  },
  {
   "cell_type": "markdown",
   "metadata": {
    "id": "KfpoYufMUlXy"
   },
   "source": [
    "The dataset was preprocessed by standardizing the features using StandardScaler and handling class imbalance with RandomUnderSampler. It was then split into training and validation sets. A neural network model with three linear layers and appropriate activation functions was defined in PyTorch. The model was trained using the Adam optimizer and binary cross-entropy loss function. Analysis of the training process revealed that for EPOCH 200, the model gradually improved on the training data, but the validation loss plateaued, indicating potential overfitting. The training accuracy reached a high value of 0.9910, suggesting overfitting, while the validation accuracy plateaued around 0.9394. For EPOCH 100, the training loss was higher, indicating incomplete convergence, but the validation loss was lower, indicating better generalization. The training accuracy for EPOCH 100 was 0.9605, while the validation accuracy was 0.9192, slightly lower than EPOCH 200."
   ]
  },
  {
   "cell_type": "markdown",
   "metadata": {
    "id": "s-gyDWpVVebw"
   },
   "source": [
    "### **Reasoning:**"
   ]
  },
  {
   "cell_type": "markdown",
   "metadata": {
    "id": "mfJuQQyUV3ZB"
   },
   "source": [
    "At 100 epochs, the increase in training loss and the decrease in training accuracy suggest that the model is still learning and adapting well to the training data without overfitting. This indicates that the model is effectively capturing the patterns and relationships present in the training set.\n",
    "\n",
    "By examining the validation loss and accuracy, we can assess the model's ability to generalize to unseen data. Overfitting occurs when a model becomes too specialized in the training data, resulting in poor performance on new or unseen data. In the case of 200 epochs, the plateauing of the validation loss and the slight decrease in validation accuracy suggest that the model might be overfitting. The performance gap between training and validation metrics indicates that the model is not generalizing well to unseen data.\n",
    "\n",
    "Comparing the results between 200 and 100 epochs, it becomes apparent that 100 epochs strike a better balance between training and validation performance. Although the training loss is slightly higher at 100 epochs, it is likely that the model has not yet converged fully, and further training may yield better results. The lower validation loss at 100 epochs indicates improved generalization performance compared to 200 epochs. Additionally, the training accuracy for 100 epochs is lower but still reasonably high, indicating that the model is capturing the essential patterns in the training data while avoiding overfitting. The validation accuracy at 100 epochs, although slightly lower than that of 200 epochs, suggests that the model is performing well on unseen data and has a better generalization ability."
   ]
  },
  {
   "cell_type": "markdown",
   "metadata": {
    "id": "AhHZN6eTWB3s"
   },
   "source": [
    "### **Conclusion:**"
   ]
  },
  {
   "cell_type": "markdown",
   "metadata": {
    "id": "Dg4BqVgwWFg2"
   },
   "source": [
    "After evaluating the output, it can be inferred that training the model for 100 epochs strikes a better balance between training and validation performance compared to training for 200 epochs. The results at 100 epochs demonstrate lower validation loss and comparable validation accuracy, indicating improved generalization capability. Therefore, it can be estimated that the model achieves optimal performance at approximately 100 epochs."
   ]
  },
  {
   "cell_type": "code",
   "execution_count": null,
   "metadata": {
    "id": "Cl9Z30zlT8uX"
   },
   "outputs": [],
   "source": []
  }
 ],
 "metadata": {
  "colab": {
   "provenance": []
  },
  "kernelspec": {
   "display_name": "Python 3 (ipykernel)",
   "language": "python",
   "name": "python3"
  },
  "language_info": {
   "codemirror_mode": {
    "name": "ipython",
    "version": 3
   },
   "file_extension": ".py",
   "mimetype": "text/x-python",
   "name": "python",
   "nbconvert_exporter": "python",
   "pygments_lexer": "ipython3",
   "version": "3.9.13"
  }
 },
 "nbformat": 4,
 "nbformat_minor": 1
}
